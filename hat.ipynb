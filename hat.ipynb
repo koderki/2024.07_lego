{
 "cells": [
  {
   "cell_type": "markdown",
   "id": "93a83ada",
   "metadata": {},
   "source": [
    "### Setup tracer"
   ]
  },
  {
   "cell_type": "code",
   "execution_count": 1,
   "id": "36187d63",
   "metadata": {},
   "outputs": [
    {
     "name": "stdout",
     "output_type": "stream",
     "text": [
      "3.12.4 (main, Jul 15 2024, 17:02:52) [GCC 12.2.0]\n",
      "/usr/local/bin/python3.12\n"
     ]
    }
   ],
   "source": [
    "import sys \n",
    "\n",
    "print(sys.version)\n",
    "print(sys.executable)"
   ]
  },
  {
   "cell_type": "code",
   "execution_count": 2,
   "id": "2005bbb7",
   "metadata": {},
   "outputs": [],
   "source": [
    "import sys\n",
    "import inspect\n",
    "\n",
    "def trace_calls_and_returns(frame, event, arg):\n",
    "    co = frame.f_code\n",
    "    func_name = co.co_name\n",
    "    filename = co.co_filename\n",
    "    line_no = frame.f_lineno\n",
    "    modulename = inspect.getmodulename(filename)\n",
    "    \n",
    "    \n",
    "#    try:\n",
    "#        if not inspect.getsourcefile(frame).startswith('/home/rpi/.local/lib/python3.12/site-packages/buildhat'):\n",
    "#        if not inspect.getsourcefile(frame).startswith('/tmp'):\n",
    "#            return trace_calls_and_returns\n",
    "#    except:\n",
    "#        return trace_calls_and_returns\n",
    "\n",
    "    if not (modulename == 'serialposix'):\n",
    "        return trace_calls_and_returns\n",
    "\n",
    "    if not (func_name == 'write'):\n",
    "        return trace_calls_and_returns\n",
    "    \n",
    "    if event == 'line':\n",
    "        return trace_calls_and_returns\n",
    "    elif event == 'return':\n",
    "        print('[retn] %s => %s' % (func_name, arg))\n",
    "    else:\n",
    "        print('[%s] %s.%s %s line %s:%s' % (event, modulename, func_name, inspect.getargvalues(frame).locals, filename, line_no))\n",
    "        # print('[%s] %s.%s line %s:%s' % (event, modulename, func_name, filename, line_no))\n",
    "    return trace_calls_and_returns\n",
    "\n"
   ]
  },
  {
   "cell_type": "markdown",
   "id": "1686c4e3",
   "metadata": {},
   "source": [
    "### Example to print devices attached to hat"
   ]
  },
  {
   "cell_type": "code",
   "execution_count": 3,
   "id": "011deb39",
   "metadata": {},
   "outputs": [
    {
     "name": "stdout",
     "output_type": "stream",
     "text": [
      "A {'typeid': 49, 'connected': True, 'name': 'Motor', 'description': 'Large Angular Motor (Cyan)'}\n",
      "B {'typeid': 61, 'connected': True, 'name': 'ColorSensor', 'description': 'Color Sensor'}\n",
      "C {'typeid': -1, 'connected': False, 'name': 'Disconnected', 'description': ''}\n",
      "D {'typeid': -1, 'connected': False, 'name': 'Disconnected', 'description': ''}\n"
     ]
    },
    {
     "data": {
      "text/plain": [
       "[None, None, None, None]"
      ]
     },
     "execution_count": 3,
     "metadata": {},
     "output_type": "execute_result"
    }
   ],
   "source": [
    "import threading\n",
    "from buildhat import Hat\n",
    "\n",
    "# Set the trace function for all threads\n",
    "# threading.settrace_all_threads(trace_calls_and_returns) # python3.12\n",
    "\n",
    "hat = Hat(debug=True) # /tmp/buildhat-*.log\n",
    "dev = hat.get()\n",
    "[print(value, dev[value]) for value in dev]"
   ]
  },
  {
   "cell_type": "markdown",
   "id": "a4b972f2",
   "metadata": {},
   "source": [
    "### Example driving motors"
   ]
  },
  {
   "cell_type": "code",
   "execution_count": 4,
   "id": "51b5f860",
   "metadata": {},
   "outputs": [
    {
     "name": "stdout",
     "output_type": "stream",
     "text": [
      "Run for degrees 360\n",
      "Run for rotations - 2\n"
     ]
    }
   ],
   "source": [
    "import time\n",
    "from buildhat import Motor\n",
    "\n",
    "motor = Motor('A')\n",
    "motor.set_default_speed(50)\n",
    "\n",
    "print(\"Run for degrees 360\")\n",
    "motor.run_for_degrees(360)\n",
    "time.sleep(3)\n",
    "\n",
    "print(\"Run for rotations - 2\")\n",
    "motor.run_for_rotations(-2)"
   ]
  }
 ],
 "metadata": {
  "kernelspec": {
   "display_name": "Python 3 (ipykernel)",
   "language": "python",
   "name": "python3"
  },
  "language_info": {
   "codemirror_mode": {
    "name": "ipython",
    "version": 3
   },
   "file_extension": ".py",
   "mimetype": "text/x-python",
   "name": "python",
   "nbconvert_exporter": "python",
   "pygments_lexer": "ipython3",
   "version": "3.12.4"
  }
 },
 "nbformat": 4,
 "nbformat_minor": 5
}
